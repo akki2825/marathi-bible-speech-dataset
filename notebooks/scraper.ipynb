{
 "cells": [
  {
   "cell_type": "code",
   "execution_count": 1,
   "metadata": {},
   "outputs": [
    {
     "name": "stdout",
     "output_type": "stream",
     "text": [
      "Collecting bs4\n",
      "  Downloading bs4-0.0.1.tar.gz (1.1 kB)\n",
      "Collecting beautifulsoup4\n",
      "  Downloading beautifulsoup4-4.8.2-py3-none-any.whl (106 kB)\n",
      "\u001b[K     |████████████████████████████████| 106 kB 279 kB/s eta 0:00:01\n",
      "\u001b[?25hCollecting soupsieve>=1.2\n",
      "  Downloading soupsieve-2.0-py2.py3-none-any.whl (32 kB)\n",
      "Building wheels for collected packages: bs4\n",
      "  Building wheel for bs4 (setup.py) ... \u001b[?25ldone\n",
      "\u001b[?25h  Created wheel for bs4: filename=bs4-0.0.1-py3-none-any.whl size=1272 sha256=dc9bbe9d2a030449ab3f8295aaa6cad6c656f9f33bfea5480110177a33a81a2e\n",
      "  Stored in directory: /home/akki/.cache/pip/wheels/19/f5/6d/a97dd4f22376d4472d5f4c76c7646876052ff3166b3cf71050\n",
      "Successfully built bs4\n",
      "Installing collected packages: soupsieve, beautifulsoup4, bs4\n",
      "Successfully installed beautifulsoup4-4.8.2 bs4-0.0.1 soupsieve-2.0\n",
      "Requirement already satisfied: requests in /home/akki/miniconda3/envs/py36/lib/python3.6/site-packages (2.23.0)\n",
      "Requirement already satisfied: chardet<4,>=3.0.2 in /home/akki/miniconda3/envs/py36/lib/python3.6/site-packages (from requests) (3.0.4)\n",
      "Requirement already satisfied: urllib3!=1.25.0,!=1.25.1,<1.26,>=1.21.1 in /home/akki/miniconda3/envs/py36/lib/python3.6/site-packages (from requests) (1.25.8)\n",
      "Requirement already satisfied: idna<3,>=2.5 in /home/akki/miniconda3/envs/py36/lib/python3.6/site-packages (from requests) (2.9)\n",
      "Requirement already satisfied: certifi>=2017.4.17 in /home/akki/miniconda3/envs/py36/lib/python3.6/site-packages (from requests) (2019.11.28)\n"
     ]
    }
   ],
   "source": [
    "!pip install bs4\n",
    "!pip install requests"
   ]
  },
  {
   "cell_type": "code",
   "execution_count": 14,
   "metadata": {},
   "outputs": [
    {
     "name": "stdout",
     "output_type": "stream",
     "text": [
      "Collecting selenium\n",
      "  Downloading selenium-3.141.0-py2.py3-none-any.whl (904 kB)\n",
      "\u001b[K     |████████████████████████████████| 904 kB 49 kB/s eta 0:00:011\n",
      "\u001b[?25hRequirement already satisfied: urllib3 in /home/akki/miniconda3/envs/py36/lib/python3.6/site-packages (from selenium) (1.25.8)\n",
      "Installing collected packages: selenium\n",
      "Successfully installed selenium-3.141.0\n"
     ]
    }
   ],
   "source": [
    "!pip install selenium"
   ]
  },
  {
   "cell_type": "code",
   "execution_count": 16,
   "metadata": {},
   "outputs": [
    {
     "name": "stdout",
     "output_type": "stream",
     "text": [
      "Collecting wget\n",
      "  Downloading wget-3.2.zip (10 kB)\n",
      "Building wheels for collected packages: wget\n",
      "  Building wheel for wget (setup.py) ... \u001b[?25ldone\n",
      "\u001b[?25h  Created wheel for wget: filename=wget-3.2-py3-none-any.whl size=9681 sha256=c48036564695805aad7c8a1accac2659f0d48219c394fe8414be4b6f037744c9\n",
      "  Stored in directory: /home/akki/.cache/pip/wheels/90/1d/93/c863ee832230df5cfc25ca497b3e88e0ee3ea9e44adc46ac62\n",
      "Successfully built wget\n",
      "Installing collected packages: wget\n",
      "Successfully installed wget-3.2\n"
     ]
    }
   ],
   "source": [
    "!pip install wget"
   ]
  },
  {
   "cell_type": "code",
   "execution_count": 17,
   "metadata": {},
   "outputs": [],
   "source": [
    "# The standard library modules\n",
    "import os\n",
    "import sys\n",
    "\n",
    "# The wget module\n",
    "import wget\n",
    "\n",
    "# The BeautifulSoup module\n",
    "from bs4 import BeautifulSoup\n",
    "\n",
    "# The selenium module\n",
    "from selenium import webdriver\n",
    "from selenium.webdriver.common.keys import Keys\n",
    "from selenium.webdriver.support.ui import WebDriverWait\n",
    "from selenium.webdriver.support import expected_conditions as EC\n",
    "from selenium.webdriver.common.by import By"
   ]
  },
  {
   "cell_type": "code",
   "execution_count": 21,
   "metadata": {},
   "outputs": [],
   "source": [
    "## Install geckodriver\n",
    "\n",
    "driver = webdriver.Firefox() # if you want to use chrome, replace Firefox() with Chrome()\n",
    "driver.get(\"https://live.bible.is/bible/marwtc/MAT/1\") # load the web page"
   ]
  },
  {
   "cell_type": "code",
   "execution_count": 57,
   "metadata": {},
   "outputs": [],
   "source": [
    "from bs4.element import Comment\n",
    "\n",
    "def tag_visible(element):\n",
    "    if element.parent.name in ['style', 'script', 'head', 'title', 'meta', '[document]']:\n",
    "        return False\n",
    "    if isinstance(element, Comment):\n",
    "        return False\n",
    "    return True"
   ]
  },
  {
   "cell_type": "code",
   "execution_count": 88,
   "metadata": {
    "scrolled": true
   },
   "outputs": [],
   "source": [
    "## TODO: get this info from webpage directly. solution here is not scalable\n",
    "topics = [('MAT', 29), ('MRK', 17), ('LUK', 25), ('JHN', 22), ('ACT', 29), ('ROM', 17), ('1CO', 17), ('2CO', 14), ('GAL', 7), ('EPH', 7), ('PHP', 5), ('COL', 5), ('1TH', 6), ('2TH', 4), ('1TI', 7), ('2TI', 5), ('TIT', 4), ('PHM', 2), ('HEB', 14), ('JAS', 6), ('1PE', 6), ('2PE', 4), ('1JN', 6), ('2JN', 2), ('3JN', 2), ('JUD', 2), ('REV', 23)]"
   ]
  },
  {
   "cell_type": "code",
   "execution_count": 90,
   "metadata": {},
   "outputs": [],
   "source": [
    "lst = []\n",
    "for tp in topics:\n",
    "    for i in range(1, int(tp[1])):\n",
    "        data = {}\n",
    "        driver.get(\"https://live.bible.is/bible/marwtc/\" + str(tp[0]) + \"/\" + str(tp[1]) + \"?audio_type=audio\") # load the web page\n",
    "        src = driver.page_source\n",
    "        parser = BeautifulSoup(src,\"lxml\")\n",
    "        tag = parser.findAll('audio')[0]['src']\n",
    "        texts = parser.findAll(text=True)\n",
    "        clean_text = list(filter(tag_visible, texts))\n",
    "        data['clean_text'] = clean_text\n",
    "        data['audio_link'] = tag\n",
    "        lst.append(data)"
   ]
  },
  {
   "cell_type": "code",
   "execution_count": 102,
   "metadata": {},
   "outputs": [],
   "source": [
    "## TODO: refactor! heavily overfitted to this use case.\n",
    "\n",
    "new_data = []\n",
    "for item in lst:\n",
    "    new_item = {}\n",
    "    target = item['clean_text'][3:].index('Copyrighted Material')\n",
    "    new_item['clean_strings'] = lst[0]['clean_text'][3:][:target]\n",
    "    new_item['audio_link'] = item['audio_link']\n",
    "    new_data.append(new_item)"
   ]
  },
  {
   "cell_type": "code",
   "execution_count": 103,
   "metadata": {},
   "outputs": [],
   "source": [
    "import json\n",
    "with open('data.json', 'w+', encoding='utf-8') as f:\n",
    "    json.dump(new_data, f, ensure_ascii=False)"
   ]
  },
  {
   "cell_type": "code",
   "execution_count": 109,
   "metadata": {},
   "outputs": [
    {
     "data": {
      "text/plain": [
       "260"
      ]
     },
     "execution_count": 109,
     "metadata": {},
     "output_type": "execute_result"
    }
   ],
   "source": [
    "len(new_data)"
   ]
  }
 ],
 "metadata": {
  "kernelspec": {
   "display_name": "Python 3",
   "language": "python",
   "name": "python3"
  },
  "language_info": {
   "codemirror_mode": {
    "name": "ipython",
    "version": 3
   },
   "file_extension": ".py",
   "mimetype": "text/x-python",
   "name": "python",
   "nbconvert_exporter": "python",
   "pygments_lexer": "ipython3",
   "version": "3.6.10"
  }
 },
 "nbformat": 4,
 "nbformat_minor": 4
}
